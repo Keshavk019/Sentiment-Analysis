{
 "cells": [
  {
   "cell_type": "markdown",
   "metadata": {
    "id": "n1_hFvkNgCbJ"
   },
   "source": [
    "<div style=\"background-color: #008080; padding: 20px;\">\n",
    "    <h1 style=\"color: white; font-family: Arial;\">Sentiment Analysis using Natural Language Processing</h1>\n",
    "</div>"
   ]
  },
  {
   "cell_type": "markdown",
   "metadata": {},
   "source": [
    "Introduction:\n",
    "\n",
    "Build a sentiment analysis system leveraging Natural Language Processing to automatically interpret and categorize sentiments (positive, negative, neutral) expressed in textual data. Explore real-world applications like social media monitoring, customer feedback analysis, brand perception assessment, and market trend analysis. The project aims to assist businesses and organizations in making data-driven decisions and enhancing their strategies based on public sentiment.\n",
    "In this project we analyze messages written on Twitter and make a sentiment analysis model based on these.\n",
    "\n",
    "Random Forest Classifier was used to classify the tweets.\n",
    "Final Accuracy obtained on the Validation Set is 96.8% and the F1 Score for each of the classes is over 96%.\n",
    "\n",
    "Link to the dataset - https://www.kaggle.com/datasets/jp797498e/twitter-entity-sentiment-analysis"
   ]
  },
  {
   "cell_type": "markdown",
   "metadata": {},
   "source": [
    "### Table of Contents\n",
    "- [Data Information and Cleaning](#section-1)\n",
    "- [Exploratory Data Analysis](#section-2)\n",
    "- [Text Analysis and Processing](#section-3)\n",
    "- [Machine Learning Model - Random Forest Classifier](#section-4)\n",
    "- [Final Result using Validation Data](#section-5)"
   ]
  },
  {
   "cell_type": "code",
   "execution_count": 32,
   "metadata": {
    "colab": {
     "base_uri": "https://localhost:8080/"
    },
    "id": "owgh6SeXgCpi",
    "outputId": "dd7553b4-ff7c-4d8d-c4de-a29c4540fdbe",
    "scrolled": true
   },
   "outputs": [
    {
     "name": "stderr",
     "output_type": "stream",
     "text": [
      "[nltk_data] Downloading package stopwords to C:\\Users\\Ameya\n",
      "[nltk_data]     Kulkarni\\AppData\\Roaming\\nltk_data...\n",
      "[nltk_data]   Package stopwords is already up-to-date!\n",
      "[nltk_data] Downloading package punkt to C:\\Users\\Ameya\n",
      "[nltk_data]     Kulkarni\\AppData\\Roaming\\nltk_data...\n",
      "[nltk_data]   Package punkt is already up-to-date!\n",
      "[nltk_data] Downloading package wordnet to C:\\Users\\Ameya\n",
      "[nltk_data]     Kulkarni\\AppData\\Roaming\\nltk_data...\n",
      "[nltk_data]   Package wordnet is already up-to-date!\n",
      "[nltk_data] Downloading package omw-1.4 to C:\\Users\\Ameya\n",
      "[nltk_data]     Kulkarni\\AppData\\Roaming\\nltk_data...\n"
     ]
    }
   ],
   "source": [
    "#Importing all the libraries\n",
    "\n",
    "import pandas as pd\n",
    "import numpy as np\n",
    "import matplotlib.pyplot as plt\n",
    "import seaborn as sns\n",
    "\n",
    "from sklearn.feature_extraction.text import CountVectorizer #Data transformation\n",
    "from sklearn.model_selection import train_test_split\n",
    "from sklearn.metrics import accuracy_score\n",
    "from sklearn.model_selection import train_test_split\n",
    "from sklearn.metrics import accuracy_score, classification_report\n",
    "from sklearn.preprocessing import LabelEncoder\n",
    "from sklearn.ensemble import RandomForestClassifier\n",
    "\n",
    "import re #Regular Expression\n",
    "\n",
    "import nltk\n",
    "from nltk import word_tokenize\n",
    "from nltk.corpus import stopwords\n",
    "from nltk.tokenize import word_tokenize\n",
    "from nltk.stem import PorterStemmer\n",
    "from nltk.stem import WordNetLemmatizer\n",
    "nltk.download('stopwords')\n",
    "nltk.download('punkt')\n",
    "nltk.download('wordnet')\n",
    "nltk.download('omw-1.4')\n",
    "\n",
    "from bs4 import BeautifulSoup"
   ]
  },
  {
   "cell_type": "code",
   "execution_count": 4,
   "metadata": {
    "colab": {
     "base_uri": "https://localhost:8080/"
    },
    "id": "Jo4arR_TiBOf",
    "outputId": "ac74a45c-0451-4687-9318-6e3b2e414788"
   },
   "outputs": [],
   "source": [
    "#Importing file contents\n",
    "\n",
    "file_path_training = r\"C:\\Users\\Ameya Kulkarni\\Desktop\\Towards AI\\Machine Learning Projects\\Twitter Sentiment Analysis Dataset\\twitter_training.csv\"\n",
    "file_path_validation = r\"C:\\Users\\Ameya Kulkarni\\Desktop\\Towards AI\\Machine Learning Projects\\Twitter Sentiment Analysis Dataset\\twitter_validation.csv\"\n",
    "\n",
    "train_data = pd.read_csv(file_path_training)\n",
    "val_data = pd.read_csv(file_path_validation)"
   ]
  },
  {
   "cell_type": "markdown",
   "metadata": {
    "id": "oP1hpKqWzbTm"
   },
   "source": [
    "<div style=\"background-color: #9c3848; padding: 10px;\">\n",
    "    <h2 style=\"color: white;\">Data Information and Cleaning</h2>\n",
    "</div>\n",
    "<a id=\"section-1\"></a>"
   ]
  },
  {
   "cell_type": "code",
   "execution_count": 5,
   "metadata": {
    "colab": {
     "base_uri": "https://localhost:8080/",
     "height": 206
    },
    "id": "FmijnHjci1VF",
    "outputId": "9a4a692c-655f-4a3a-9f5d-c97b4391955a"
   },
   "outputs": [
    {
     "data": {
      "text/html": [
       "<div>\n",
       "<style scoped>\n",
       "    .dataframe tbody tr th:only-of-type {\n",
       "        vertical-align: middle;\n",
       "    }\n",
       "\n",
       "    .dataframe tbody tr th {\n",
       "        vertical-align: top;\n",
       "    }\n",
       "\n",
       "    .dataframe thead th {\n",
       "        text-align: right;\n",
       "    }\n",
       "</style>\n",
       "<table border=\"1\" class=\"dataframe\">\n",
       "  <thead>\n",
       "    <tr style=\"text-align: right;\">\n",
       "      <th></th>\n",
       "      <th>2401</th>\n",
       "      <th>Borderlands</th>\n",
       "      <th>Positive</th>\n",
       "      <th>im getting on borderlands and i will murder you all ,</th>\n",
       "    </tr>\n",
       "  </thead>\n",
       "  <tbody>\n",
       "    <tr>\n",
       "      <th>0</th>\n",
       "      <td>2401</td>\n",
       "      <td>Borderlands</td>\n",
       "      <td>Positive</td>\n",
       "      <td>I am coming to the borders and I will kill you...</td>\n",
       "    </tr>\n",
       "    <tr>\n",
       "      <th>1</th>\n",
       "      <td>2401</td>\n",
       "      <td>Borderlands</td>\n",
       "      <td>Positive</td>\n",
       "      <td>im getting on borderlands and i will kill you ...</td>\n",
       "    </tr>\n",
       "    <tr>\n",
       "      <th>2</th>\n",
       "      <td>2401</td>\n",
       "      <td>Borderlands</td>\n",
       "      <td>Positive</td>\n",
       "      <td>im coming on borderlands and i will murder you...</td>\n",
       "    </tr>\n",
       "    <tr>\n",
       "      <th>3</th>\n",
       "      <td>2401</td>\n",
       "      <td>Borderlands</td>\n",
       "      <td>Positive</td>\n",
       "      <td>im getting on borderlands 2 and i will murder ...</td>\n",
       "    </tr>\n",
       "    <tr>\n",
       "      <th>4</th>\n",
       "      <td>2401</td>\n",
       "      <td>Borderlands</td>\n",
       "      <td>Positive</td>\n",
       "      <td>im getting into borderlands and i can murder y...</td>\n",
       "    </tr>\n",
       "  </tbody>\n",
       "</table>\n",
       "</div>"
      ],
      "text/plain": [
       "   2401  Borderlands  Positive  \\\n",
       "0  2401  Borderlands  Positive   \n",
       "1  2401  Borderlands  Positive   \n",
       "2  2401  Borderlands  Positive   \n",
       "3  2401  Borderlands  Positive   \n",
       "4  2401  Borderlands  Positive   \n",
       "\n",
       "  im getting on borderlands and i will murder you all ,  \n",
       "0  I am coming to the borders and I will kill you...     \n",
       "1  im getting on borderlands and i will kill you ...     \n",
       "2  im coming on borderlands and i will murder you...     \n",
       "3  im getting on borderlands 2 and i will murder ...     \n",
       "4  im getting into borderlands and i can murder y...     "
      ]
     },
     "execution_count": 5,
     "metadata": {},
     "output_type": "execute_result"
    }
   ],
   "source": [
    "#First five rows of the training dataset\n",
    "\n",
    "train_data.head()"
   ]
  },
  {
   "cell_type": "code",
   "execution_count": 6,
   "metadata": {
    "colab": {
     "base_uri": "https://localhost:8080/",
     "height": 223
    },
    "id": "gYwqEsM1lW9Y",
    "outputId": "1577e551-256c-4700-9fe3-c0772c05ac27"
   },
   "outputs": [
    {
     "data": {
      "text/html": [
       "<div>\n",
       "<style scoped>\n",
       "    .dataframe tbody tr th:only-of-type {\n",
       "        vertical-align: middle;\n",
       "    }\n",
       "\n",
       "    .dataframe tbody tr th {\n",
       "        vertical-align: top;\n",
       "    }\n",
       "\n",
       "    .dataframe thead th {\n",
       "        text-align: right;\n",
       "    }\n",
       "</style>\n",
       "<table border=\"1\" class=\"dataframe\">\n",
       "  <thead>\n",
       "    <tr style=\"text-align: right;\">\n",
       "      <th></th>\n",
       "      <th>3364</th>\n",
       "      <th>Facebook</th>\n",
       "      <th>Irrelevant</th>\n",
       "      <th>I mentioned on Facebook that I was struggling for motivation to go for a run the other day, which has been translated by Tom’s great auntie as ‘Hayley can’t get out of bed’ and told to his grandma, who now thinks I’m a lazy, terrible person 🤣</th>\n",
       "    </tr>\n",
       "  </thead>\n",
       "  <tbody>\n",
       "    <tr>\n",
       "      <th>0</th>\n",
       "      <td>352</td>\n",
       "      <td>Amazon</td>\n",
       "      <td>Neutral</td>\n",
       "      <td>BBC News - Amazon boss Jeff Bezos rejects clai...</td>\n",
       "    </tr>\n",
       "    <tr>\n",
       "      <th>1</th>\n",
       "      <td>8312</td>\n",
       "      <td>Microsoft</td>\n",
       "      <td>Negative</td>\n",
       "      <td>@Microsoft Why do I pay for WORD when it funct...</td>\n",
       "    </tr>\n",
       "    <tr>\n",
       "      <th>2</th>\n",
       "      <td>4371</td>\n",
       "      <td>CS-GO</td>\n",
       "      <td>Negative</td>\n",
       "      <td>CSGO matchmaking is so full of closet hacking,...</td>\n",
       "    </tr>\n",
       "    <tr>\n",
       "      <th>3</th>\n",
       "      <td>4433</td>\n",
       "      <td>Google</td>\n",
       "      <td>Neutral</td>\n",
       "      <td>Now the President is slapping Americans in the...</td>\n",
       "    </tr>\n",
       "    <tr>\n",
       "      <th>4</th>\n",
       "      <td>6273</td>\n",
       "      <td>FIFA</td>\n",
       "      <td>Negative</td>\n",
       "      <td>Hi @EAHelp I’ve had Madeleine McCann in my cel...</td>\n",
       "    </tr>\n",
       "  </tbody>\n",
       "</table>\n",
       "</div>"
      ],
      "text/plain": [
       "   3364   Facebook Irrelevant  \\\n",
       "0   352     Amazon    Neutral   \n",
       "1  8312  Microsoft   Negative   \n",
       "2  4371      CS-GO   Negative   \n",
       "3  4433     Google    Neutral   \n",
       "4  6273       FIFA   Negative   \n",
       "\n",
       "  I mentioned on Facebook that I was struggling for motivation to go for a run the other day, which has been translated by Tom’s great auntie as ‘Hayley can’t get out of bed’ and told to his grandma, who now thinks I’m a lazy, terrible person 🤣  \n",
       "0  BBC News - Amazon boss Jeff Bezos rejects clai...                                                                                                                                                                                                  \n",
       "1  @Microsoft Why do I pay for WORD when it funct...                                                                                                                                                                                                  \n",
       "2  CSGO matchmaking is so full of closet hacking,...                                                                                                                                                                                                  \n",
       "3  Now the President is slapping Americans in the...                                                                                                                                                                                                  \n",
       "4  Hi @EAHelp I’ve had Madeleine McCann in my cel...                                                                                                                                                                                                  "
      ]
     },
     "execution_count": 6,
     "metadata": {},
     "output_type": "execute_result"
    }
   ],
   "source": [
    "#First five rows of the validation dataset\n",
    "\n",
    "val_data.head()"
   ]
  },
  {
   "cell_type": "markdown",
   "metadata": {
    "id": "WKAOShlHl8hc"
   },
   "source": [
    "We notice in the output cells of the above cells that there is no header row in both the training and validation data.\n",
    "Pandas is treating the first row of information as the header.\n",
    "To avoid this, we will have to insert these headers manually."
   ]
  },
  {
   "cell_type": "code",
   "execution_count": 7,
   "metadata": {
    "id": "W_8fXxPPmX0s"
   },
   "outputs": [],
   "source": [
    "train_data.columns=['id','Entities','Sentiment','Text']\n",
    "val_data.columns=['id','Entities','Sentiment','Text']"
   ]
  },
  {
   "cell_type": "code",
   "execution_count": 8,
   "metadata": {
    "colab": {
     "base_uri": "https://localhost:8080/",
     "height": 206
    },
    "id": "mMvCLnFjmyJM",
    "outputId": "d0003a0b-e290-406f-8f13-12219e9d3cd2"
   },
   "outputs": [
    {
     "data": {
      "text/html": [
       "<div>\n",
       "<style scoped>\n",
       "    .dataframe tbody tr th:only-of-type {\n",
       "        vertical-align: middle;\n",
       "    }\n",
       "\n",
       "    .dataframe tbody tr th {\n",
       "        vertical-align: top;\n",
       "    }\n",
       "\n",
       "    .dataframe thead th {\n",
       "        text-align: right;\n",
       "    }\n",
       "</style>\n",
       "<table border=\"1\" class=\"dataframe\">\n",
       "  <thead>\n",
       "    <tr style=\"text-align: right;\">\n",
       "      <th></th>\n",
       "      <th>id</th>\n",
       "      <th>Entities</th>\n",
       "      <th>Sentiment</th>\n",
       "      <th>Text</th>\n",
       "    </tr>\n",
       "  </thead>\n",
       "  <tbody>\n",
       "    <tr>\n",
       "      <th>0</th>\n",
       "      <td>2401</td>\n",
       "      <td>Borderlands</td>\n",
       "      <td>Positive</td>\n",
       "      <td>I am coming to the borders and I will kill you...</td>\n",
       "    </tr>\n",
       "    <tr>\n",
       "      <th>1</th>\n",
       "      <td>2401</td>\n",
       "      <td>Borderlands</td>\n",
       "      <td>Positive</td>\n",
       "      <td>im getting on borderlands and i will kill you ...</td>\n",
       "    </tr>\n",
       "    <tr>\n",
       "      <th>2</th>\n",
       "      <td>2401</td>\n",
       "      <td>Borderlands</td>\n",
       "      <td>Positive</td>\n",
       "      <td>im coming on borderlands and i will murder you...</td>\n",
       "    </tr>\n",
       "    <tr>\n",
       "      <th>3</th>\n",
       "      <td>2401</td>\n",
       "      <td>Borderlands</td>\n",
       "      <td>Positive</td>\n",
       "      <td>im getting on borderlands 2 and i will murder ...</td>\n",
       "    </tr>\n",
       "    <tr>\n",
       "      <th>4</th>\n",
       "      <td>2401</td>\n",
       "      <td>Borderlands</td>\n",
       "      <td>Positive</td>\n",
       "      <td>im getting into borderlands and i can murder y...</td>\n",
       "    </tr>\n",
       "  </tbody>\n",
       "</table>\n",
       "</div>"
      ],
      "text/plain": [
       "     id     Entities Sentiment  \\\n",
       "0  2401  Borderlands  Positive   \n",
       "1  2401  Borderlands  Positive   \n",
       "2  2401  Borderlands  Positive   \n",
       "3  2401  Borderlands  Positive   \n",
       "4  2401  Borderlands  Positive   \n",
       "\n",
       "                                                Text  \n",
       "0  I am coming to the borders and I will kill you...  \n",
       "1  im getting on borderlands and i will kill you ...  \n",
       "2  im coming on borderlands and i will murder you...  \n",
       "3  im getting on borderlands 2 and i will murder ...  \n",
       "4  im getting into borderlands and i can murder y...  "
      ]
     },
     "execution_count": 8,
     "metadata": {},
     "output_type": "execute_result"
    }
   ],
   "source": [
    "#With the output of this cell, we see that the headers are inserted properly\n",
    "\n",
    "train_data.head()"
   ]
  },
  {
   "cell_type": "code",
   "execution_count": 9,
   "metadata": {
    "colab": {
     "base_uri": "https://localhost:8080/"
    },
    "id": "90_Q3cMjl1Rm",
    "outputId": "91920e83-5004-49bf-e3bd-d3dd4943e024"
   },
   "outputs": [
    {
     "name": "stdout",
     "output_type": "stream",
     "text": [
      "Training Data: 74681 rows and 4 columns\n",
      "Validation Data: 999 rows and 4 columns\n"
     ]
    }
   ],
   "source": [
    "#Finding the shape of the training and validation dataset\n",
    "\n",
    "print(f'Training Data: {train_data.shape[0]} rows and {train_data.shape[1]} columns')\n",
    "print(f'Validation Data: {val_data.shape[0]} rows and {val_data.shape[1]} columns')"
   ]
  },
  {
   "cell_type": "code",
   "execution_count": 10,
   "metadata": {
    "colab": {
     "base_uri": "https://localhost:8080/"
    },
    "id": "BT0fwwE9mEKo",
    "outputId": "0ea9ef91-0e87-4d5a-cc51-723f250deab6"
   },
   "outputs": [
    {
     "data": {
      "text/plain": [
       "id             0\n",
       "Entities       0\n",
       "Sentiment      0\n",
       "Text         686\n",
       "dtype: int64"
      ]
     },
     "execution_count": 10,
     "metadata": {},
     "output_type": "execute_result"
    }
   ],
   "source": [
    "#Finding the number of null values in the training data\n",
    "\n",
    "train_data.isna().sum()"
   ]
  },
  {
   "cell_type": "code",
   "execution_count": 11,
   "metadata": {
    "colab": {
     "base_uri": "https://localhost:8080/"
    },
    "id": "UORgBWKTnfFH",
    "outputId": "229a408d-35fc-4d97-c044-e8ec8f1744b8"
   },
   "outputs": [
    {
     "data": {
      "text/plain": [
       "id           0\n",
       "Entities     0\n",
       "Sentiment    0\n",
       "Text         0\n",
       "dtype: int64"
      ]
     },
     "execution_count": 11,
     "metadata": {},
     "output_type": "execute_result"
    }
   ],
   "source": [
    "#Finding the number of null values in the validation data\n",
    "\n",
    "val_data.isna().sum()"
   ]
  },
  {
   "cell_type": "markdown",
   "metadata": {
    "id": "JwEx5ok-pUcD"
   },
   "source": [
    "There are no null values in the validation data.\n",
    "\n",
    "But there are some present in the training data. As the number of rows with null values are much lesser than the total number of values, we can safely remove the null values"
   ]
  },
  {
   "cell_type": "code",
   "execution_count": 12,
   "metadata": {
    "colab": {
     "base_uri": "https://localhost:8080/"
    },
    "id": "TUE5aDiCpQt3",
    "outputId": "c82828fa-9846-4ee8-8c85-79b68432f0dc"
   },
   "outputs": [
    {
     "data": {
      "text/plain": [
       "id           0\n",
       "Entities     0\n",
       "Sentiment    0\n",
       "Text         0\n",
       "dtype: int64"
      ]
     },
     "execution_count": 12,
     "metadata": {},
     "output_type": "execute_result"
    }
   ],
   "source": [
    "#Dropping the null values\n",
    "\n",
    "train_data.dropna(inplace=True)\n",
    "\n",
    "#Check the number of null values now - should be equal to zero\n",
    "train_data.isna().sum()"
   ]
  },
  {
   "cell_type": "markdown",
   "metadata": {
    "id": "gEF1I4ZVp8cq"
   },
   "source": [
    "Now we will check for duplicate rows in the dataset"
   ]
  },
  {
   "cell_type": "code",
   "execution_count": 13,
   "metadata": {
    "colab": {
     "base_uri": "https://localhost:8080/"
    },
    "id": "3mPz3A6zp792",
    "outputId": "66f1fe5b-4e4c-4b11-d2b3-1efe66cfc132"
   },
   "outputs": [
    {
     "name": "stdout",
     "output_type": "stream",
     "text": [
      "Number of duplicate rows in the training dataset - 2340\n",
      "Number of duplicate rows in the validation dataset - 0\n"
     ]
    }
   ],
   "source": [
    "print(\"Number of duplicate rows in the training dataset -\",train_data.duplicated().sum())\n",
    "print(\"Number of duplicate rows in the validation dataset -\",val_data.duplicated().sum())"
   ]
  },
  {
   "cell_type": "markdown",
   "metadata": {
    "id": "GLaiaJiTqKN7"
   },
   "source": [
    "There are no duplicate rows in the validation dataset.\n",
    "\n",
    "But the duplicate rows in the training data would add no value to our prediction models.\n",
    "\n",
    "So we will remove the duplicate rows from the training dataset"
   ]
  },
  {
   "cell_type": "code",
   "execution_count": 14,
   "metadata": {
    "id": "4IMS4VNvqJoz"
   },
   "outputs": [],
   "source": [
    "train_data.drop_duplicates(inplace=True)"
   ]
  },
  {
   "cell_type": "markdown",
   "metadata": {
    "id": "o1RFcrqxrIJU"
   },
   "source": [
    "HTML Tags and URLs do not convey any sentiments in the tweets.\n",
    "\n",
    "So we will remove all the URLs and the HTML Tags present in the dataset"
   ]
  },
  {
   "cell_type": "code",
   "execution_count": 15,
   "metadata": {
    "colab": {
     "base_uri": "https://localhost:8080/"
    },
    "id": "mTxZ7-OzpthH",
    "outputId": "951f4748-518b-48c2-e8ad-eab0400a0a71"
   },
   "outputs": [
    {
     "name": "stderr",
     "output_type": "stream",
     "text": [
      "C:\\Users\\Ameya Kulkarni\\anaconda3\\lib\\site-packages\\bs4\\__init__.py:435: MarkupResemblesLocatorWarning: The input looks more like a filename than markup. You may want to open this file and pass the filehandle into Beautiful Soup.\n",
      "  warnings.warn(\n"
     ]
    }
   ],
   "source": [
    "# Function to remove URLs from text\n",
    "def remove_urls(text):\n",
    "    return re.sub(r'http\\S+', '', text)\n",
    "\n",
    "# Function to remove HTML tags from text\n",
    "def remove_html_tags(text):\n",
    "    soup = BeautifulSoup(text, 'html.parser')\n",
    "    return soup.get_text()\n",
    "\n",
    "# Apply the functions to the 'text' column in train_data\n",
    "train_data['Text'] = train_data['Text'].apply(remove_urls)\n",
    "train_data['Text'] = train_data['Text'].apply(remove_html_tags)\n",
    "\n",
    "val_data['Text'] = val_data['Text'].apply(remove_urls)\n",
    "val_data['Text'] = val_data['Text'].apply(remove_html_tags)"
   ]
  },
  {
   "cell_type": "code",
   "execution_count": 16,
   "metadata": {
    "id": "uafLDFzUs4PB"
   },
   "outputs": [],
   "source": [
    "train_data['text_length'] = [len(t.split()) for t in train_data['Text'].values]"
   ]
  },
  {
   "cell_type": "markdown",
   "metadata": {
    "id": "Lq8wgG-XyKox"
   },
   "source": [
    "<div style=\"background-color: #9c3848; padding: 10px;\">\n",
    "    <h2 style=\"color: white;\">Exploratory Data Analysis</h2>\n",
    "</div>\n",
    "<a id=\"section-2\"></a>"
   ]
  },
  {
   "cell_type": "code",
   "execution_count": 17,
   "metadata": {
    "colab": {
     "base_uri": "https://localhost:8080/"
    },
    "id": "WEkIs0BxyNg9",
    "outputId": "8fdefd6f-5859-4dd1-c78d-8f78f7408cf9"
   },
   "outputs": [
    {
     "name": "stdout",
     "output_type": "stream",
     "text": [
      "Different Types of Sentiments are - ['Positive' 'Neutral' 'Negative' 'Irrelevant']\n"
     ]
    }
   ],
   "source": [
    "#We will find the different types of tweets in our dataset.\n",
    "unique_types = train_data[\"Sentiment\"].unique()\n",
    "print(\"Different Types of Sentiments are -\",unique_types)"
   ]
  },
  {
   "cell_type": "code",
   "execution_count": 18,
   "metadata": {
    "colab": {
     "base_uri": "https://localhost:8080/",
     "height": 367
    },
    "id": "dqReaxzXsZsL",
    "outputId": "d05312e2-0e3b-4bb4-c188-88d438ddff70"
   },
   "outputs": [
    {
     "data": {
      "image/png": "[encoded data removed]",
      "text/plain": [
       "<Figure size 400x400 with 1 Axes>"
      ]
     },
     "metadata": {},
     "output_type": "display_data"
    }
   ],
   "source": [
    "import matplotlib.pyplot as plt\n",
    "\n",
    "# Count the occurrences of each type\n",
    "type_counts_train = train_data['Sentiment'].value_counts()\n",
    "\n",
    "# Define colors for each sentiment label\n",
    "label_colors = {\n",
    "    'Positive': 'green',\n",
    "    'Negative': 'red',\n",
    "    'Neutral': 'orange',\n",
    "    'Irrelevant': (0.4, 0.6, 1.0)\n",
    "}\n",
    "\n",
    "# Get the colors corresponding to each label\n",
    "colors = [label_colors[label] for label in type_counts_train.index]\n",
    "\n",
    "# Create a pie chart\n",
    "plt.figure(figsize=(4, 4))\n",
    "plt.pie(type_counts_train, labels=type_counts_train.index, autopct='%1.1f%%', colors=colors)\n",
    "plt.title('Distribution of Sentiments in the Training Data')\n",
    "plt.show()\n"
   ]
  },
  {
   "cell_type": "markdown",
   "metadata": {
    "id": "QDmofmG4zNi1"
   },
   "source": [
    "We notice that the traget classes are almost equal in size. So no resampling is required."
   ]
  },
  {
   "cell_type": "code",
   "execution_count": 19,
   "metadata": {
    "colab": {
     "base_uri": "https://localhost:8080/",
     "height": 428
    },
    "id": "qdgLiTKOsaHo",
    "outputId": "fd96fa01-c2eb-4c42-a748-c66b0a28f26e"
   },
   "outputs": [
    {
     "data": {
      "image/png": "[encoded data removed]",
      "text/plain": [
       "<Figure size 1000x400 with 1 Axes>"
      ]
     },
     "metadata": {},
     "output_type": "display_data"
    },
    {
     "name": "stdout",
     "output_type": "stream",
     "text": [
      "Mean of the length of tweets in the training dataset is 19.505533458935176\n"
     ]
    }
   ],
   "source": [
    "# Create a boxplot for finding the mean and outliers of the length of text\n",
    "fig, ax = plt.subplots(figsize=(10, 4))\n",
    "\n",
    "sns.boxplot(data=train_data, x='text_length', ax=ax)\n",
    "ax.set_title(\"Box Plot of Text Length\")\n",
    "plt.show()\n",
    "\n",
    "#Finding the mean of the text length in the dataset\n",
    "text_length_mean = train_data['text_length'].mean()\n",
    "print(f\"Mean of the length of tweets in the training dataset is {text_length_mean}\")"
   ]
  },
  {
   "cell_type": "markdown",
   "metadata": {
    "id": "-OnLa2UMwjNg"
   },
   "source": [
    "Mean length of tweets is nearly 19.5 tokens. The distribution is scewed positively and a few outliers are observed on the right tail. Some of them are close to the right whisker but some are located far from the majority of points. We will investigate these outliers during text analysis."
   ]
  },
  {
   "cell_type": "markdown",
   "metadata": {
    "id": "ecp4TLbQ9S30"
   },
   "source": [
    "For every Sentiment in the given data, there are some words quite often used.\n",
    "For example, the words \"love\", \"like\" are more probable to be used in a \"Positive\" sentiment scenario.\n",
    "\n",
    "We will now analyse the top words for the all the sentiments.\n",
    "\n",
    "For this, we will ignore all the stop words. Some of the stop words used in English are given in the output of the cell below"
   ]
  },
  {
   "cell_type": "code",
   "execution_count": 20,
   "metadata": {
    "colab": {
     "base_uri": "https://localhost:8080/"
    },
    "id": "VocaV4_8-owD",
    "outputId": "e52e2b61-9add-4f51-e522-0216242b157d"
   },
   "outputs": [
    {
     "data": {
      "text/plain": [
       "['i', 'me', 'my', 'myself', 'we', 'our', 'ours', 'ourselves', 'you', \"you're\"]"
      ]
     },
     "execution_count": 20,
     "metadata": {},
     "output_type": "execute_result"
    }
   ],
   "source": [
    "# First ten Stopwords in the english language - Stopwords are excluded from the text analysis\n",
    "stopwords_nltk = nltk.corpus.stopwords\n",
    "stop_words = stopwords_nltk.words('english')\n",
    "stop_words[:10]"
   ]
  },
  {
   "cell_type": "code",
   "execution_count": 21,
   "metadata": {
    "id": "5irFbvfgzxjN"
   },
   "outputs": [],
   "source": [
    "# top words\n",
    "import re\n",
    "from nltk.corpus import stopwords\n",
    "stopwords_list = stopwords.words('english')\n",
    "\n",
    "word_counts = {'Positive': [],\n",
    "                'Neutral': [],\n",
    "                'Irrelevant': [],\n",
    "                'Negative': []}\n",
    "\n",
    "pattern = re.compile('[^\\w ]')\n",
    "for text, t in zip(train_data['Text'], train_data['Sentiment']):\n",
    "    text = re.sub(pattern, '', text).lower().split()\n",
    "    text = [word for word in text if word not in stopwords_list]\n",
    "    word_counts[t].extend(text)"
   ]
  },
  {
   "cell_type": "code",
   "execution_count": 22,
   "metadata": {
    "colab": {
     "base_uri": "https://localhost:8080/",
     "height": 674
    },
    "id": "lkC7m7Znzx0o",
    "outputId": "cd30114d-32d5-4e14-e331-ab61da8ff358"
   },
   "outputs": [
    {
     "data": {
      "image/png": "[encoded data removed]",
      "text/plain": [
       "<Figure size 2000x1050 with 4 Axes>"
      ]
     },
     "metadata": {},
     "output_type": "display_data"
    }
   ],
   "source": [
    "fig, axes = plt.subplots(2, 2, figsize=(20,10.5))\n",
    "for axis, (target, words) in zip(axes.flatten(), word_counts.items()):\n",
    "    bar_info = pd.Series(words).value_counts()[:25]\n",
    "    sns.barplot(x=bar_info.values, y=bar_info.index, ax=axis)\n",
    "    axis.set_title(f'Top words for {target}')\n",
    "plt.show()"
   ]
  },
  {
   "cell_type": "code",
   "execution_count": 23,
   "metadata": {
    "colab": {
     "base_uri": "https://localhost:8080/"
    },
    "id": "fwKLM7g9zyJD",
    "outputId": "7ba16bad-9a3c-41b3-e654-dabf28cb90b7"
   },
   "outputs": [
    {
     "name": "stdout",
     "output_type": "stream",
     "text": [
      "['Borderlands' 'CallOfDutyBlackopsColdWar' 'Amazon' 'Overwatch'\n",
      " 'Xbox(Xseries)' 'NBA2K' 'Dota2' 'PlayStation5(PS5)' 'WorldOfCraft'\n",
      " 'CS-GO' 'Google' 'AssassinsCreed' 'ApexLegends' 'LeagueOfLegends'\n",
      " 'Fortnite' 'Microsoft' 'Hearthstone' 'Battlefield'\n",
      " 'PlayerUnknownsBattlegrounds(PUBG)' 'Verizon' 'HomeDepot' 'FIFA'\n",
      " 'RedDeadRedemption(RDR)' 'CallOfDuty' 'TomClancysRainbowSix' 'Facebook'\n",
      " 'GrandTheftAuto(GTA)' 'MaddenNFL' 'johnson&johnson' 'Cyberpunk2077'\n",
      " 'TomClancysGhostRecon' 'Nvidia']\n"
     ]
    }
   ],
   "source": [
    "#We will find the different Entities that are present in our dataset.\n",
    "unique_types = train_data[\"Entities\"].unique()\n",
    "print(unique_types)"
   ]
  },
  {
   "cell_type": "code",
   "execution_count": 24,
   "metadata": {
    "colab": {
     "base_uri": "https://localhost:8080/",
     "height": 174
    },
    "id": "c410HSoczyaT",
    "outputId": "a521d08b-dbb6-44b6-975f-0ba534f27b77"
   },
   "outputs": [
    {
     "data": {
      "text/html": [
       "<div>\n",
       "<style scoped>\n",
       "    .dataframe tbody tr th:only-of-type {\n",
       "        vertical-align: middle;\n",
       "    }\n",
       "\n",
       "    .dataframe tbody tr th {\n",
       "        vertical-align: top;\n",
       "    }\n",
       "\n",
       "    .dataframe thead th {\n",
       "        text-align: right;\n",
       "    }\n",
       "</style>\n",
       "<table border=\"1\" class=\"dataframe\">\n",
       "  <thead>\n",
       "    <tr style=\"text-align: right;\">\n",
       "      <th></th>\n",
       "      <th>Entities</th>\n",
       "      <th>Sentiment</th>\n",
       "      <th>count</th>\n",
       "    </tr>\n",
       "  </thead>\n",
       "  <tbody>\n",
       "    <tr>\n",
       "      <th>0</th>\n",
       "      <td>Amazon</td>\n",
       "      <td>Irrelevant</td>\n",
       "      <td>185</td>\n",
       "    </tr>\n",
       "    <tr>\n",
       "      <th>1</th>\n",
       "      <td>Amazon</td>\n",
       "      <td>Negative</td>\n",
       "      <td>565</td>\n",
       "    </tr>\n",
       "    <tr>\n",
       "      <th>2</th>\n",
       "      <td>Amazon</td>\n",
       "      <td>Neutral</td>\n",
       "      <td>1197</td>\n",
       "    </tr>\n",
       "    <tr>\n",
       "      <th>3</th>\n",
       "      <td>Amazon</td>\n",
       "      <td>Positive</td>\n",
       "      <td>302</td>\n",
       "    </tr>\n",
       "  </tbody>\n",
       "</table>\n",
       "</div>"
      ],
      "text/plain": [
       "  Entities   Sentiment  count\n",
       "0   Amazon  Irrelevant    185\n",
       "1   Amazon    Negative    565\n",
       "2   Amazon     Neutral   1197\n",
       "3   Amazon    Positive    302"
      ]
     },
     "execution_count": 24,
     "metadata": {},
     "output_type": "execute_result"
    }
   ],
   "source": [
    "#For a particular entity, we will calculate the number of tweets of different sentiments\n",
    "\n",
    "#Count information per category\n",
    "plot1_data=train_data.groupby(by=[\"Entities\",\"Sentiment\"]).count().reset_index()\n",
    "\n",
    "# Remove 'id' and 'lower' columns\n",
    "plot1_data = plot1_data.drop(columns=['id','text_length'])\n",
    "\n",
    "# Rename 'text' column to 'count'\n",
    "plot1_data = plot1_data.rename(columns={'Text': 'count'})\n",
    "\n",
    "plot1_data.head(4)"
   ]
  },
  {
   "cell_type": "markdown",
   "metadata": {
    "id": "QuebHjGIA5rS"
   },
   "source": [
    "Now we find out which company / video game has the highest number of \"Positive\" sentiment tweets attached to it"
   ]
  },
  {
   "cell_type": "code",
   "execution_count": 25,
   "metadata": {
    "colab": {
     "base_uri": "https://localhost:8080/"
    },
    "id": "SWAT6aevA4uK",
    "outputId": "15c732ba-6d24-4c2c-ba92-5f784f793185"
   },
   "outputs": [
    {
     "name": "stdout",
     "output_type": "stream",
     "text": [
      "Row with maximum count for 'positive' rows:\n",
      "['AssassinsCreed' 1382]\n"
     ]
    }
   ],
   "source": [
    "# Filter rows where the 'Sentiment' column has the value 'positive'\n",
    "positive_rows = plot1_data[plot1_data['Sentiment'] == 'Positive']\n",
    "\n",
    "# Find the maximum count and the corresponding row for the filtered rows\n",
    "max_count_positive = positive_rows['count'].max()\n",
    "row_with_max_count = positive_rows[positive_rows['count'] == max_count_positive]\n",
    "\n",
    "# Drop the 'type' column and display the values of the row with the maximum count for positive rows\n",
    "row_values_max_count = row_with_max_count.drop('Sentiment', axis=1).values.flatten()\n",
    "print(\"Row with maximum count for 'positive' rows:\")\n",
    "print(row_values_max_count)"
   ]
  },
  {
   "cell_type": "markdown",
   "metadata": {
    "id": "c2y0p66SBTyV"
   },
   "source": [
    "We do the same for the company / video game that has the most negative tweets"
   ]
  },
  {
   "cell_type": "code",
   "execution_count": 26,
   "metadata": {
    "colab": {
     "base_uri": "https://localhost:8080/"
    },
    "id": "NBC2e-4wAcG2",
    "outputId": "f9101a84-1671-48d9-f209-b41f805d5b56"
   },
   "outputs": [
    {
     "name": "stdout",
     "output_type": "stream",
     "text": [
      "Row with maximum count for 'negative' rows (values only):\n",
      "['MaddenNFL' 1665]\n"
     ]
    }
   ],
   "source": [
    "# Filter rows where the 'type' column has the value 'negative'\n",
    "negative_rows = plot1_data[plot1_data['Sentiment'] == 'Negative']\n",
    "\n",
    "# Find the maximum count and the corresponding row for the filtered rows\n",
    "max_count_negative = negative_rows['count'].max()\n",
    "row_with_max_count_negative = negative_rows[negative_rows['count'] == max_count_negative]\n",
    "\n",
    "# Drop the 'type' column and display the values of the row with the maximum count for negative rows\n",
    "row_values_max_count_negative = row_with_max_count_negative.drop('Sentiment', axis=1).values.flatten()\n",
    "print(\"Row with maximum count for 'negative' rows (values only):\")\n",
    "print(row_values_max_count_negative)"
   ]
  },
  {
   "cell_type": "markdown",
   "metadata": {
    "id": "9oGKNmHtBlJR"
   },
   "source": [
    "In the cell below, we will analyse the types of tweets for some of the brands in the dataset"
   ]
  },
  {
   "cell_type": "code",
   "execution_count": 27,
   "metadata": {
    "colab": {
     "base_uri": "https://localhost:8080/",
     "height": 507
    },
    "id": "yiSyq93NAcJe",
    "outputId": "d6c016ac-a1d3-4af3-bbf5-be00e223c48a"
   },
   "outputs": [
    {
     "data": {
      "image/png": "[encoded data removed]",
      "text/plain": [
       "<Figure size 2000x600 with 1 Axes>"
      ]
     },
     "metadata": {},
     "output_type": "display_data"
    }
   ],
   "source": [
    "import matplotlib.pyplot as plt\n",
    "import seaborn as sns\n",
    "\n",
    "# Define a custom color palette\n",
    "custom_palette = {\"Irrelevant\": \"blue\", \"Positive\": \"green\", \"Neutral\": \"orange\" , \"Negative\": \"red\"}\n",
    "\n",
    "# Filter the data to include only a subset of brands\n",
    "brands_to_display = ['Amazon', 'AssassinsCreed', 'FIFA' , 'Facebook' , 'Microsoft' , 'Nvidia' , 'MaddenNFL']  # We can add othre brands as well\n",
    "\n",
    "filtered_data = plot1_data[plot1_data['Entities'].isin(brands_to_display)]\n",
    "\n",
    "# Use the filtered data in the barplot\n",
    "plt.figure(figsize=(20, 6))\n",
    "sns.barplot(data=filtered_data, x=\"Entities\", y=\"count\", hue=\"Sentiment\", palette=custom_palette)\n",
    "plt.xticks(rotation=90)\n",
    "plt.xlabel(\"Brand\")\n",
    "plt.ylabel(\"Number of tweets\")\n",
    "plt.grid()\n",
    "plt.title(\"Distribution of tweets per Branch and Type\")\n",
    "\n",
    "# Show the plot\n",
    "plt.show()"
   ]
  },
  {
   "cell_type": "markdown",
   "metadata": {
    "id": "0h0YOZnjCQwO"
   },
   "source": [
    "<div style=\"background-color: #9c3848; padding: 10px;\">\n",
    "    <h2 style=\"color: white;\">Text Analysis and Processing</h2>\n",
    "</div>\n",
    "<a id=\"section-3\"></a>"
   ]
  },
  {
   "cell_type": "markdown",
   "metadata": {
    "id": "htv0JId8CWW2"
   },
   "source": [
    "We saw the outliers (in terms of text length) that were present in our dataset.\n",
    "\n",
    "We will now analyse them and see their contents in the next cell"
   ]
  },
  {
   "cell_type": "code",
   "execution_count": 28,
   "metadata": {
    "colab": {
     "base_uri": "https://localhost:8080/",
     "height": 1000
    },
    "id": "X4adVSDKtugT",
    "outputId": "4956ff42-40d6-4c45-c46a-be7942327bd1"
   },
   "outputs": [
    {
     "data": {
      "text/html": [
       "<style>.output { max-width:100% !important; }</style><style>pre { white-space: pre-wrap; }</style>"
      ],
      "text/plain": [
       "<IPython.core.display.HTML object>"
      ]
     },
     "metadata": {},
     "output_type": "display_data"
    },
    {
     "name": "stdout",
     "output_type": "stream",
     "text": [
      "1825 Target:  Neutral\n",
      "_ _ _ _ _ _ _ _ _ _ _ _ _ _ _ _ _ _ _ _ _ _ _ _ _ _ _ _ _ _ _ _ _ _ _ _ _ _ _ _ _ _ _ _ _ _ _ _ _ _ _ _ _ _ _ _ _ _ _ _ _ _ _ _ _ _ _ _ _ _ _ _ _ _ _ _ _ _ _ _ _ _ _ _ _ _ _ _ _ _ _ _ _ _ _ _ _ _ _ _ _ _ _ _ _ _ _ _ _ _ _ _ _ _ _ _ _ _ _ _ _ _ _ _ _ _ _ _ _ _ _ _ _ _ _ _ _ _ _ _ _ _ _ _ _ _ _ _ _ _ _ _ _ _ _ _ _ _ _ _ _ _ _ _ _ _ _ _ _ _ _ _ _ _ _ _ _ _ _ _ _ _ _ _ _ _ _ _ _ _ _ _ _ _ _ _ _ _\n",
      "\n",
      "\n",
      "\n",
      "8545 Target:  Positive\n",
      "I REALLY HAVE THE OVERWATCH RN GAME. SEA SEA SEA SEA SEA SEA SEA SEA SEA SEA SEA SEA SEA SEA SEA SEA SEA SEA SEA SEE E E E E E E E E E E E E E E E E E E E E E E E E E E E E E E E E E E E E E E E E E E E E E E E E E E E E E E E E E E E E E E E E E E E E E E E E E E E E E E E E E E E E E E E E E E E E E E E E E E E E E E E E E E E E E E E E E E E E E E E E E E E E E E E E E E E E E E E E E E E\n",
      "\n",
      "\n",
      "\n",
      "10453 Target:  Positive\n",
      "_ _ _ _ _ _ _ _ _ _ _ _ _ _ _ _ _ _ _ _ _ _ _ _ _ _ _ _ _ _ _ _ _ _ _ _ _ _ _ _ _ _ _ _ _ _ _ _ _ _ _ _ _ _ _ _ _ _ _ _ _ _ _ _ _ _ _ _ _ _ _ _ _ _ _ _ _ _ _ _ _ _ _ _ _ _ _ _ _ _ _ _ _ _ _ _ _ _ _ _ _ _ _ _ _ _ _ _ _ _ _ _ _ _ _ _ _ _ _ _ _ _ _ _ _ _ _ _ _ _ _ _ _ _ _ _ _ _ _ _ _ _ _ _ _ _ _ _ _ _ _ _ _ _ _ _ _ _ _ _ _ _ _ _ _ _ _ _ _ _ _ _ _ _ _ _ _ _ _ _ _ _ _ _ _ _ _ _ _ _ _ _ _ _ _ _ _ _\n",
      "\n",
      "\n",
      "\n",
      "32185 Target:  Neutral\n",
      "= = = = = = = = = = = = = = = = = = = = = = = = = = = = = = = = = = = = = = = = = = = = = = = = = = = = = = = = = = = = = = = = = = = = = = = = = = = = = = = = = = = = = = = = = = = = = = = = = = = = = = = = = = = = = = = = = = = = = = = = = = = = = = = = = = = = = = = = = = = = = = = = = = = = = = = = = = = = = = = = = = = = = = = = = = = = = = = = = = = = = = = = = = = = = = = = = = = = = =\n",
      "\n",
      "\n",
      "\n",
      "43711 Target:  Negative\n",
      "# # # # # # # # # # # # # # # # # # # # # # # # # # # # # # # # # # # # # # # # # # # # # # # # # # # # # # # # # # # # # # # # # # # # # # # # # # # # # # # # # # # # # # # # # # # # # # # # # # # # # # # # # # # # # # # # # # # # # # # # # # # # # # # # # # # # # # # # # # # # # # # # # # # # # # # # # # # # # # # # # # # # # # # # # # # # # # # # # # # # # # # # # # # # # # # # # # # # # #\n",
      "\n",
      "\n",
      "\n",
      "52135 Target:  Neutral\n",
      "There was a meeting with the interns on their upcoming projects, and my background was a TV showing my ped Red Dead Reduction 2 after the pillaging of the dead body, so I'm just trying to hide it from everyone, as I am: / / / / / / / / / / / / / / / / / / / / / / / / / / / / / / / / / / / / / / / / / / / / / / / / / / / / / / / / / / / / / / / / / / / / / / / / / / / / / / / / / / / / / / / / / / / / / / / / / / / / / / / / / / / / / / / / / / / / / / / / / / / / / / / / / / / / / / / / / / / / / / / / / / /\n",
      "\n",
      "\n",
      "\n",
      "61387 Target:  Irrelevant\n",
      "(PC) Come Vibe With Me. Messing Around in GTA!!!!!!!!!!!!!!!!!!!!!!!!!!!!! _ _ _ _ _ _ _ _ _ _ _ _ _ _ _ _ _ _ _ _ _ _ _ _ _ _ _ _ _ _ _ _ _ _ _ _ _ _ _ _ _ _ _ _ _ _ _ _ _ _ _ _ _ _ _ _ _ _ _ _ _ _ _ _ _ _ _ _ _ _ _ _ _ _ _ _ _ _ _ _ _ _ _ _ _ _ _ _ _ _ _ _ _ _ _ _ _ _ _ _ _ _ _ _ _ _ _ _ _ _ _ _ _ _ _ _ _ _ _ _ _ _ _ _ _ _ _ _ _ _ _ _ _ _ _ _ _ _ _ _ _ _ _ _ _ _ _ _ _ _ _ _ _ _\n",
      "\n",
      "\n",
      "\n",
      "68077 Target:  Neutral\n",
      "@ _ _ _ _ _ _ _ _ _ _ _ _ _ _ _ _ _ _ _ _ _ _ _ _ _ _ _ _ _ _ _ _ _ _ _ _ _ _ _ _ _ _ _ _ _ _ _ _ _ _ _ _ _ _ _ _ _ _ _ _ _ _ _ _ _ _ _ _ _ _ _ _ _ _ _ _ _ _ _ _ _ _ _ _ _ _ _ _ _ _ _ _ _ _ _ _ _ _ _ _ _ _ _ _ _ _ _ _ _ _ _ _ _ _ _ _ _ _ _ _ _ _ _ _ _ _ _ _ _ _ _ _ _ _ _ _ _ _ _ _ _ _ _ _ _ _ _ _ _ _ _ _ _ _ _ _ _ _ _ _ _ _ _ _ _ _ _ _ _ _ _ _ _ _\n",
      "\n",
      "\n",
      "\n",
      "68575 Target:  Negative\n",
      "When fear is raised that \"punk-2077\" may be postponed for several years, which I hope will not happen, but here is another powerful blow to the Bollocks in 2020: / / / / / / / / / / / / / / / / / / / / / / / / / / / / / / / / / / / / / / / / / / / / / / / / / / / / / / / / / / / / / / / / / / / / / / / / / / / / / / / / / / / / / / / / / / / / / / / / / / / / / / / / / / / / / / / / / / / / / / / / / / / / / / / / / / / / / / / / / / / / / / / / / / / / / / / / / / / / / / / /\n",
      "\n",
      "\n",
      "\n",
      "68623 Target:  Neutral\n",
      "I'm a little disappointed, but my schedule approves this decision entirely. ^ _ _ _ _ _ _ _ _ _ _ _ _ _ _ _ _ _ _ _ _ _ _ _ _ _ _ _ _ _ _ _ _ _ _ _ _ _ _ _ _ _ _ _ _ _ _ _ _ _ _ _ _ _ _ _ _ _ _ _ _ _ _ _ _ _ _ _ _ _ _ _ _ _ _ _ _ _ _ _ _ _ _ _ _ _ _ _ _ _ _ _ _ _ _ _ _ _ _ _ _ _ _ _ _ _ _ _ _ _ _ _ _ _ _ _ _ _ _ _ _ _ _ _ _ _ _ _ _ _ _ _ _ _ _ _ _ _ _ _ _ _ _ _ _ _ _ _ _ _ _ _ _ _ _ _ _ _ _ _ _ _ _ _ _ _ _ _ _ _ _ _ _ _ _ _ _ _ _ _ _ _ _\n",
      "\n",
      "\n",
      "\n",
      "70939 Target:  Neutral\n",
      "The event dedicated to Victory Day in the Great Patriotic War was held as part of the celebration of the 70th anniversary of Victory in the Great Patriotic War of 1941-1945, which was attended by veterans of the Great Patriotic War, home front workers, home front workers, home front workers, home front workers, home front workers, home front workers, home front workers, home front workers, home front workers, home front workers, home front workers, home front workers, home front workers, home front workers, home front workers, home front workers, home front workers, home front workers, home front workers, home front workers, home front workers, home front workers, home front workers, home front workers, home front workers, home front workers, home front workers, home front workers, home front workers, home front workers, home front workers, home front workers, home front workers, home front workers, home front workers, home front workers, home\n",
      "\n",
      "\n",
      "\n"
     ]
    }
   ],
   "source": [
    "#Setting the maximum width of the output screen so as to avoid scrolling\n",
    "from IPython.display import display, HTML\n",
    "\n",
    "# Set the maximum width of the output cell and enable text wrapping\n",
    "display(HTML(\"<style>.output { max-width:100% !important; }</style>\"\n",
    "             \"<style>pre { white-space: pre-wrap; }</style>\"))\n",
    "\n",
    "#With this code, we are seeing the extreme outliers in our dataset which have a text length of more than 125 tokens.\n",
    "extreme_outliers = train_data['Text'][np.array(train_data['text_length']) > 125]\n",
    "\n",
    "for idx in extreme_outliers.index:\n",
    "    print(idx, 'Target: ', train_data['Sentiment'][idx])\n",
    "    print(extreme_outliers[idx])\n",
    "\n",
    "    # To put spaces between the tweets\n",
    "    print(\"\\n\\n\")"
   ]
  },
  {
   "cell_type": "markdown",
   "metadata": {
    "id": "MN0rs0_VzAkV"
   },
   "source": [
    "Tweets like \"######...\" have become Nagative labeled. Some of these tweets do not contain any textual information. Such precendents could be removed. Some have both meaningful part and plenty of punctuation characters. They could be removed on the preprocessing stage\n",
    "\n",
    "Text with very huge number of tokens can also adversely affect our ML model.\n",
    "So we will remove the rows which have the corresponding text above above a certain threshold."
   ]
  },
  {
   "cell_type": "code",
   "execution_count": 29,
   "metadata": {
    "id": "pPPYpDO4xL_Z"
   },
   "outputs": [],
   "source": [
    "def remove_outlier(df_in, col_name):\n",
    "    q1 = df_in[col_name].quantile(0.25)\n",
    "    q3 = df_in[col_name].quantile(0.75)\n",
    "    iqr = q3-q1 #Interquartile range\n",
    "    fence_low  = q1-1.5*iqr\n",
    "    fence_high = q3+1.5*iqr\n",
    "    df_out = df_in.loc[(df_in[col_name] > fence_low) & (df_in[col_name] < fence_high)]\n",
    "    return df_out\n",
    "\n",
    "#remove outliers\n",
    "train_df = remove_outlier(train_data,'text_length')"
   ]
  },
  {
   "cell_type": "markdown",
   "metadata": {
    "id": "r7OiZ_Q0D3L2"
   },
   "source": [
    "Now we will create another box plot tot analyse the text length distribution\n",
    "\n",
    "As we will observe in the output of the cell below, there are a lot less outliers"
   ]
  },
  {
   "cell_type": "code",
   "execution_count": 30,
   "metadata": {
    "colab": {
     "base_uri": "https://localhost:8080/",
     "height": 410
    },
    "id": "6cwx8ygBDqly",
    "outputId": "a8967b4d-57fa-49b4-e98c-da9b9e3bd898"
   },
   "outputs": [
    {
     "data": {
      "image/png": "[encoded data removed]",
      "text/plain": [
       "<Figure size 800x400 with 1 Axes>"
      ]
     },
     "metadata": {},
     "output_type": "display_data"
    }
   ],
   "source": [
    "# Create a boxplot for finding the mean and outliers of the length of text\n",
    "fig, ax = plt.subplots(figsize=(8, 4))\n",
    "\n",
    "sns.boxplot(data=train_df, x='text_length', ax=ax)\n",
    "ax.set_title(\"Box Plot of Text Length\")\n",
    "plt.show()"
   ]
  },
  {
   "cell_type": "code",
   "execution_count": 33,
   "metadata": {
    "colab": {
     "base_uri": "https://localhost:8080/"
    },
    "id": "NQtQx4l5EXtB",
    "outputId": "5ee2a341-bc70-43db-d00c-7ce89327c3e1"
   },
   "outputs": [
    {
     "name": "stderr",
     "output_type": "stream",
     "text": [
      "C:\\Users\\Ameya Kulkarni\\AppData\\Local\\Temp\\ipykernel_24972\\3654698414.py:25: SettingWithCopyWarning: \n",
      "A value is trying to be set on a copy of a slice from a DataFrame.\n",
      "Try using .loc[row_indexer,col_indexer] = value instead\n",
      "\n",
      "See the caveats in the documentation: https://pandas.pydata.org/pandas-docs/stable/user_guide/indexing.html#returning-a-view-versus-a-copy\n",
      "  train_df['Text'] = train_df['Text'].apply(preprocess_text)\n"
     ]
    }
   ],
   "source": [
    "def preprocess_text(text):\n",
    "\n",
    "    # Lowercase the text\n",
    "    text = text.lower()\n",
    "\n",
    "    # Remove punctuation\n",
    "    text = re.sub(r'[^\\w\\s]', '', text)\n",
    "\n",
    "    # Tokenize the text\n",
    "    tokens = word_tokenize(text)\n",
    "\n",
    "    # Remove stop words\n",
    "    stop_words = set(stopwords.words('english'))\n",
    "    tokens = [token for token in tokens if token not in stop_words]\n",
    "\n",
    "    # Lemmatize the tokens\n",
    "    lemmatizer = WordNetLemmatizer()\n",
    "    tokens = [lemmatizer.lemmatize(token) for token in tokens]\n",
    "\n",
    "    # Joining the words back into a string\n",
    "    final_text = ' '.join(tokens)\n",
    "    return final_text\n",
    "\n",
    "# Preprocess the train_df DataFrame\n",
    "train_df['Text'] = train_df['Text'].apply(preprocess_text)\n",
    "val_data['Text'] = val_data['Text'].apply(preprocess_text)"
   ]
  },
  {
   "cell_type": "code",
   "execution_count": 34,
   "metadata": {
    "id": "VEeqmuycGkVC"
   },
   "outputs": [],
   "source": [
    "X = train_data['Text']\n",
    "y = train_data['Sentiment']\n",
    "\n",
    "# Vectorize the preprocessed text using CountVectorizer\n",
    "vectorizer = CountVectorizer()\n",
    "X_vectorized = vectorizer.fit_transform(X)\n",
    "\n",
    "# Split the data into training and testing sets\n",
    "X_train, X_test, y_train, y_test = train_test_split(X_vectorized, y, test_size=0.2, random_state=42)\n"
   ]
  },
  {
   "cell_type": "markdown",
   "metadata": {
    "id": "yrcM5ifPInxd"
   },
   "source": [
    "<div style=\"background-color: #9c3848; padding: 10px;\">\n",
    "    <h2 style=\"color: white;\">Machine Learning Model - Random Forest Classifier</h2>\n",
    "</div>\n",
    "<a id=\"section-4\"></a>"
   ]
  },
  {
   "cell_type": "code",
   "execution_count": 36,
   "metadata": {
    "colab": {
     "base_uri": "https://localhost:8080/"
    },
    "id": "AfYURvSyIVNR",
    "outputId": "25d68b24-d478-4fe9-a8c5-b59e8a69c1f9"
   },
   "outputs": [
    {
     "name": "stdout",
     "output_type": "stream",
     "text": [
      "\n",
      "Accuracy (Random Forest): 0.9223361942641826\n",
      "Classification Report (Random Forest):\n",
      "              precision    recall  f1-score   support\n",
      "\n",
      "  Irrelevant       0.97      0.86      0.92      2455\n",
      "    Negative       0.92      0.95      0.93      4433\n",
      "     Neutral       0.91      0.92      0.92      3532\n",
      "    Positive       0.91      0.93      0.92      3911\n",
      "\n",
      "    accuracy                           0.92     14331\n",
      "   macro avg       0.93      0.92      0.92     14331\n",
      "weighted avg       0.92      0.92      0.92     14331\n",
      "\n"
     ]
    }
   ],
   "source": [
    "# Train the Random Forest classifier\n",
    "rf_classifier = RandomForestClassifier(random_state=42)\n",
    "rf_classifier.fit(X_train, y_train)\n",
    "\n",
    "#Prediction\n",
    "y_pred_rf = rf_classifier.predict(X_test)\n",
    "\n",
    "# Evaluate the Random Forest model\n",
    "accuracy_rf = accuracy_score(y_test, y_pred_rf)\n",
    "print('\\nAccuracy (Random Forest):', accuracy_rf)\n",
    "print('Classification Report (Random Forest):')\n",
    "print(classification_report(y_test, y_pred_rf))"
   ]
  },
  {
   "cell_type": "markdown",
   "metadata": {
    "id": "4fMU74j2M1jD"
   },
   "source": [
    "<div style=\"background-color: #9c3848; padding: 10px;\">\n",
    "    <h2 style=\"color: white;\">Final Results using Validation Data</h2>\n",
    "</div>\n",
    "<a id=\"section-5\"></a>"
   ]
  },
  {
   "cell_type": "code",
   "execution_count": 37,
   "metadata": {
    "colab": {
     "base_uri": "https://localhost:8080/"
    },
    "id": "FXoKgVyuIyHB",
    "outputId": "26069961-bedb-4257-8a99-64c7afaa4e74"
   },
   "outputs": [
    {
     "name": "stdout",
     "output_type": "stream",
     "text": [
      "\n",
      "Accuracy on Validation Dataset: 0.9680971320912707\n",
      "Classification Report on Validation Dataset:\n",
      "              precision    recall  f1-score   support\n",
      "\n",
      "  Irrelevant       0.99      0.95      0.97     12537\n",
      "    Negative       0.97      0.97      0.97     21698\n",
      "     Neutral       0.94      0.98      0.96     17708\n",
      "    Positive       0.97      0.97      0.97     19712\n",
      "\n",
      "    accuracy                           0.97     71655\n",
      "   macro avg       0.97      0.97      0.97     71655\n",
      "weighted avg       0.97      0.97      0.97     71655\n",
      "\n"
     ]
    }
   ],
   "source": [
    "X = train_data['Text']\n",
    "y = train_data['Sentiment']\n",
    "\n",
    "# Vectorize the preprocessed text using CountVectorizer\n",
    "vectorizer = CountVectorizer()\n",
    "X_vectorized = vectorizer.fit_transform(X)\n",
    "\n",
    "# Predict using the trained Random Forest classifier\n",
    "y_pred_val = rf_classifier.predict(X_vectorized)\n",
    "\n",
    "# Calculate accuracy on the validation dataset\n",
    "accuracy_val = accuracy_score(y, y_pred_val)\n",
    "print('\\nAccuracy on Validation Dataset:', accuracy_val)\n",
    "\n",
    "# Calculate the classification report\n",
    "classification_report_val = classification_report(y, y_pred_val)\n",
    "\n",
    "# Print the classification report\n",
    "print('Classification Report on Validation Dataset:')\n",
    "print(classification_report_val)"
   ]
  },
  {
   "cell_type": "code",
   "execution_count": null,
   "metadata": {},
   "outputs": [],
   "source": []
  }
 ],
 "metadata": {
  "colab": {
   "provenance": []
  },
  "kernelspec": {
   "display_name": "Python 3 (ipykernel)",
   "language": "python",
   "name": "python3"
  },
  "language_info": {
   "codemirror_mode": {
    "name": "ipython",
    "version": 3
   },
   "file_extension": ".py",
   "mimetype": "text/x-python",
   "name": "python",
   "nbconvert_exporter": "python",
   "pygments_lexer": "ipython3",
   "version": "3.10.9"
  }
 },
 "nbformat": 4,
 "nbformat_minor": 1
}
